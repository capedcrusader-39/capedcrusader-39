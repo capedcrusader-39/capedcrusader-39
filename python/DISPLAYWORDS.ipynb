{
 "cells": [
  {
   "cell_type": "code",
   "execution_count": 3,
   "id": "e9709321-d2dd-4016-8f61-ff25f35574b8",
   "metadata": {},
   "outputs": [
    {
     "name": "stdout",
     "output_type": "stream",
     "text": [
      "{'my': 2, 'first': 5, 'book': 4, 'was': 3, 'me': 2, 'and': 3, 'family.': 7, 'it': 2, 'gave': 4, 'chance': 6, 'to': 2, 'be': 2, 'known': 5, 'the': 3, 'world': 5}\n"
     ]
    }
   ],
   "source": [
    "#8.2: DISPLAYWORDS\n",
    "def DISPLAYWORDS():\n",
    "    f1=open(\"STORY.TXT\",'r')\n",
    "    s=f1.read()\n",
    "    s=s.lower()\n",
    "    f1.close()\n",
    "    l=s.split(\" \")\n",
    "    d={}\n",
    "    f2=open(\"words.txt\",'w')\n",
    "    for i in l:\n",
    "        d.update({i:len(i)})\n",
    "        if len(i)<4:\n",
    "            f2.write(i)\n",
    "    print(d)\n",
    "    f2.close()\n",
    "\n",
    "DISPLAYWORDS()"
   ]
  },
  {
   "cell_type": "code",
   "execution_count": null,
   "id": "41d09005-1f0d-4f84-9d52-e87e14d9c3c9",
   "metadata": {},
   "outputs": [],
   "source": []
  }
 ],
 "metadata": {
  "kernelspec": {
   "display_name": "Python 3 (ipykernel)",
   "language": "python",
   "name": "python3"
  },
  "language_info": {
   "codemirror_mode": {
    "name": "ipython",
    "version": 3
   },
   "file_extension": ".py",
   "mimetype": "text/x-python",
   "name": "python",
   "nbconvert_exporter": "python",
   "pygments_lexer": "ipython3",
   "version": "3.9.4"
  }
 },
 "nbformat": 4,
 "nbformat_minor": 5
}
