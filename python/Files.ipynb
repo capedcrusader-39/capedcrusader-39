{
 "cells": [
  {
   "cell_type": "code",
   "execution_count": 5,
   "metadata": {},
   "outputs": [
    {
     "name": "stdout",
     "output_type": "stream",
     "text": [
      "4\n"
     ]
    }
   ],
   "source": [
    "fp=open(\"STORY.TXT\",'w+')\n",
    "fp.write(\"My first book was Me and My Family. It gave me chance to be known to the world\")\n",
    "fp.seek(0)\n",
    "s=fp.read()\n",
    "fp.close()\n",
    "s=s.lower()\n",
    "count=0\n",
    "l=s.split(\" \")\n",
    "for i in l:\n",
    "    if i==\"me\" or i==\"my\":\n",
    "        count+=1\n",
    "print(count)"
   ]
  },
  {
   "cell_type": "code",
   "execution_count": 10,
   "metadata": {},
   "outputs": [
    {
     "name": "stdout",
     "output_type": "stream",
     "text": [
      "{'my': 2, 'first': 5, 'book': 4, 'was': 3, 'me': 2, 'and': 3, 'family.': 7, 'it': 2, 'gave': 4, 'chance': 6, 'to': 2, 'be': 2, 'known': 5, 'the': 3, 'world': 5}\n"
     ]
    }
   ],
   "source": [
    "f1=open(\"STORY.TXT\",'w+')\n",
    "d={}\n",
    "f1.write(\"My first book was Me and My Family. It gave me chance to be known to the world\")\n",
    "f1.seek(0)\n",
    "s=f1.read()\n",
    "s=s.lower()\n",
    "f1.close()\n",
    "f2=open(\"words.txt\",'w')\n",
    "l=s.split(\" \")\n",
    "for i in l:\n",
    "    d.update({i:len(i)})\n",
    "    if len(i)<4:\n",
    "        f2.write(i)\n",
    "print(d)"
   ]
  },
  {
   "cell_type": "code",
   "execution_count": null,
   "metadata": {},
   "outputs": [],
   "source": []
  }
 ],
 "metadata": {
  "kernelspec": {
   "display_name": "Python 3 (ipykernel)",
   "language": "python",
   "name": "python3"
  },
  "language_info": {
   "codemirror_mode": {
    "name": "ipython",
    "version": 3
   },
   "file_extension": ".py",
   "mimetype": "text/x-python",
   "name": "python",
   "nbconvert_exporter": "python",
   "pygments_lexer": "ipython3",
   "version": "3.9.4"
  }
 },
 "nbformat": 4,
 "nbformat_minor": 4
}
