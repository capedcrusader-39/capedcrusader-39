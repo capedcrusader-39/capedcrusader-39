{
 "cells": [
  {
   "cell_type": "code",
   "execution_count": 5,
   "metadata": {},
   "outputs": [
    {
     "name": "stdout",
     "output_type": "stream",
     "text": [
      "\n",
      "Options\n",
      "1.Ceate a string\n",
      "2.Concatenate\n",
      "3.Access sub-string\n",
      "4.exit\n",
      "Choose option: 1\n",
      "Enter a string: hello\n",
      "\n",
      "Options\n",
      "1.Ceate a string\n",
      "2.Concatenate\n",
      "3.Access sub-string\n",
      "4.exit\n",
      "Choose option: 2\n",
      "Enter a string: world\n",
      "hello world\n",
      "\n",
      "Options\n",
      "1.Ceate a string\n",
      "2.Concatenate\n",
      "3.Access sub-string\n",
      "4.exit\n",
      "Choose option: 3\n",
      "Eter start index: 3\n",
      "Enter stop index: 8\n",
      "Sub-string is\n",
      " lo wo\n",
      "\n",
      "Options\n",
      "1.Ceate a string\n",
      "2.Concatenate\n",
      "3.Access sub-string\n",
      "4.exit\n",
      "Choose option: 4\n"
     ]
    }
   ],
   "source": [
    "def con(s):\n",
    "    s=s+\" \"+input(\"Enter a string: \")\n",
    "    print(s)\n",
    "    return s\n",
    "\n",
    "def sub(s):\n",
    "    a=int(input(\"Eter start index: \"))\n",
    "    b=int(input(\"Enter stop index: \"))\n",
    "    print(\"Sub-string is\\n\",s[a:b])\n",
    "\n",
    "    \n",
    "i=1\n",
    "while i!=0:\n",
    "    print(\"\\nOptions\\n1.Ceate a string\\n2.Concatenate\\n3.Access sub-string\\n4.exit\")\n",
    "    a=int(input(\"Choose option: \"))\n",
    "    if a==1:\n",
    "        s=input(\"Enter a string: \")\n",
    "    elif a==2:\n",
    "        s=con(s)\n",
    "    elif a==3:\n",
    "        sub(s)\n",
    "    elif a==4:\n",
    "        i=0\n",
    "    else:\n",
    "        print(\"Invalid option\")"
   ]
  },
  {
   "cell_type": "code",
   "execution_count": 5,
   "metadata": {},
   "outputs": [
    {
     "name": "stdout",
     "output_type": "stream",
     "text": [
      "Enter a string: malayalammalayalam akka\n",
      "malayalammalayalam\n"
     ]
    }
   ],
   "source": [
    "def longest(str):\n",
    "    n=len(str)\n",
    "    long=\"\"\n",
    "    for i in range(n):\n",
    "        for j in range(n,0,-1):\n",
    "            str1=str[i:j]\n",
    "            if str1==str1[::-1] and len(str1)>len(long):\n",
    "                long=str1\n",
    "                break\n",
    "    return long\n",
    "\n",
    "str=input(\"Enter a string: \")\n",
    "print(longest(str))"
   ]
  },
  {
   "cell_type": "code",
   "execution_count": null,
   "metadata": {},
   "outputs": [],
   "source": []
  }
 ],
 "metadata": {
  "kernelspec": {
   "display_name": "Python 3",
   "language": "python",
   "name": "python3"
  },
  "language_info": {
   "codemirror_mode": {
    "name": "ipython",
    "version": 3
   },
   "file_extension": ".py",
   "mimetype": "text/x-python",
   "name": "python",
   "nbconvert_exporter": "python",
   "pygments_lexer": "ipython3",
   "version": "3.8.10"
  }
 },
 "nbformat": 4,
 "nbformat_minor": 4
}
