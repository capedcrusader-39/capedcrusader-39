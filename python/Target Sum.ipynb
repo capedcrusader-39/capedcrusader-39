{
 "cells": [
  {
   "cell_type": "code",
   "execution_count": 2,
   "id": "f7d6acaa-95fd-417e-9f77-baf6abaf22d4",
   "metadata": {},
   "outputs": [
    {
     "name": "stdin",
     "output_type": "stream",
     "text": [
      "Enter list of integers:  1,2,3,4,5,6,7,8,9\n",
      "Enter target sum:  7\n"
     ]
    },
    {
     "name": "stdout",
     "output_type": "stream",
     "text": [
      "[(1, 6), (2, 5), (3, 4)]\n"
     ]
    }
   ],
   "source": [
    "#6.5: Target Sum\n",
    "l=eval(input(\"Enter list of integers: \"))\n",
    "s=int(input(\"Enter target sum: \"))\n",
    "t=[]\n",
    "for i in l:\n",
    "    for j in l:\n",
    "        if i+j==s:\n",
    "            if (i,j) not in t and (j,i) not in t:\n",
    "                t.append((i,j))\n",
    "print(t)"
   ]
  },
  {
   "cell_type": "code",
   "execution_count": null,
   "id": "097d04cb-635f-452e-bbd7-65085b898c3f",
   "metadata": {},
   "outputs": [],
   "source": []
  }
 ],
 "metadata": {
  "kernelspec": {
   "display_name": "Python 3 (ipykernel)",
   "language": "python",
   "name": "python3"
  },
  "language_info": {
   "codemirror_mode": {
    "name": "ipython",
    "version": 3
   },
   "file_extension": ".py",
   "mimetype": "text/x-python",
   "name": "python",
   "nbconvert_exporter": "python",
   "pygments_lexer": "ipython3",
   "version": "3.9.4"
  }
 },
 "nbformat": 4,
 "nbformat_minor": 5
}
