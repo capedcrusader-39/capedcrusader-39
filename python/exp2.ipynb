{
 "cells": [
  {
   "cell_type": "code",
   "execution_count": 35,
   "metadata": {},
   "outputs": [
    {
     "name": "stdout",
     "output_type": "stream",
     "text": [
      "Enter limit: 4\n",
      "Enter a number: 1\n",
      "Enter a number: 2\n",
      "Enter a number: 3\n",
      "Enter a number: 4\n",
      "Sum =  10\n"
     ]
    }
   ],
   "source": [
    "#2.1: sum of natural numbers\n",
    "n=int(input(\"Enter limit: \"))\n",
    "s=0\n",
    "i=1\n",
    "while i<=n :\n",
    "    a=int(input(\"Enter a number: \"))\n",
    "    s+=a\n",
    "    i+=1\n",
    "print(\"Sum = \",s)"
   ]
  },
  {
   "cell_type": "code",
   "execution_count": 13,
   "metadata": {},
   "outputs": [
    {
     "name": "stdout",
     "output_type": "stream",
     "text": [
      "Enter a number: 153\n",
      "153  is an armstrong number\n"
     ]
    }
   ],
   "source": [
    "#2.2: Armstrong\n",
    "a=int(input(\"Enter a number: \"))\n",
    "temp=a\n",
    "p=0;arm=0\n",
    "while temp!=0:\n",
    "    p+=1\n",
    "    temp//=10\n",
    "temp=a\n",
    "while temp!=0:\n",
    "    arm+=(temp%10)**p\n",
    "    temp//=10\n",
    "if arm==a:\n",
    "    print(a,\" is an armstrong number\")\n",
    "else:\n",
    "    print(a,\" is not an armstrong number\")"
   ]
  },
  {
   "cell_type": "code",
   "execution_count": 22,
   "metadata": {},
   "outputs": [
    {
     "name": "stdout",
     "output_type": "stream",
     "text": [
      "53 59 61 67 71 73 79 83 89 97 "
     ]
    }
   ],
   "source": [
    "#2.3: prime numbers from 50 to 100\n",
    "for a in range(50,101):\n",
    "    flag=0\n",
    "    for i in range(2,a):\n",
    "        if a%i==0:\n",
    "            flag=1\n",
    "    if flag==0:\n",
    "        print(a,end=\" \")"
   ]
  },
  {
   "cell_type": "code",
   "execution_count": 31,
   "metadata": {},
   "outputs": [
    {
     "name": "stdout",
     "output_type": "stream",
     "text": [
      "Enter limit: 7\n",
      "0 1 1 2 3 5 8 "
     ]
    }
   ],
   "source": [
    "#2.4: fibonacci series\n",
    "n=int(input(\"Enter limit: \"))\n",
    "a=0\n",
    "b=1\n",
    "if n<=0:\n",
    "    print(\"No series\")\n",
    "elif n==1:\n",
    "    print(a)\n",
    "else:\n",
    "    print(a,b,end=\" \")\n",
    "    for i in range(3,n+1):\n",
    "        c=a+b\n",
    "        print(c,end=\" \")\n",
    "        a=b\n",
    "        b=c"
   ]
  },
  {
   "cell_type": "code",
   "execution_count": 34,
   "metadata": {},
   "outputs": [
    {
     "name": "stdout",
     "output_type": "stream",
     "text": [
      "Enter a string or number: malayalam\n",
      "malayalam  is a palindrome\n"
     ]
    }
   ],
   "source": [
    "#2.5: palindrome\n",
    "a=input(\"Enter a string or number: \")\n",
    "if a[::-1]==a:\n",
    "    print(a,\" is a palindrome\")\n",
    "else:\n",
    "    print(a,\" is not a palindrome\")"
   ]
  },
  {
   "cell_type": "code",
   "execution_count": null,
   "metadata": {},
   "outputs": [],
   "source": []
  }
 ],
 "metadata": {
  "kernelspec": {
   "display_name": "Python 3 (ipykernel)",
   "language": "python",
   "name": "python3"
  },
  "language_info": {
   "codemirror_mode": {
    "name": "ipython",
    "version": 3
   },
   "file_extension": ".py",
   "mimetype": "text/x-python",
   "name": "python",
   "nbconvert_exporter": "python",
   "pygments_lexer": "ipython3",
   "version": "3.11.5"
  }
 },
 "nbformat": 4,
 "nbformat_minor": 4
}
