{
 "cells": [
  {
   "cell_type": "raw",
   "id": "31dbe08f-d93f-4309-9ede-e499e0d5503f",
   "metadata": {},
   "source": [
    "3. Programs to illustrate functions"
   ]
  },
  {
   "cell_type": "code",
   "execution_count": 2,
   "id": "6d5d07cf-ce42-4bc9-bc96-cfba8022df6e",
   "metadata": {},
   "outputs": [
    {
     "name": "stdin",
     "output_type": "stream",
     "text": [
      "Enter a string or number:  malayalam\n"
     ]
    },
    {
     "name": "stdout",
     "output_type": "stream",
     "text": [
      "malayalam is a palindrome\n"
     ]
    }
   ],
   "source": [
    "#3.1: Palindrome\n",
    "def pal(a):\n",
    "    return a[::-1]==a\n",
    "\n",
    "a=input(\"Enter a string or number: \")\n",
    "b=pal(a)\n",
    "if b:\n",
    "    print(a,\"is a palindrome\")\n",
    "else:\n",
    "    print(a,\"is not a palindrome\")"
   ]
  },
  {
   "cell_type": "code",
   "execution_count": 4,
   "id": "2b425d88-c51d-4b5d-a7e7-43728f1ebcf2",
   "metadata": {},
   "outputs": [
    {
     "name": "stdin",
     "output_type": "stream",
     "text": [
      "Enter limit:  3\n",
      "Enter number:  2\n",
      "Enter number:  4\n",
      "Enter number:  5\n"
     ]
    },
    {
     "name": "stdout",
     "output_type": "stream",
     "text": [
      "Product=  40\n"
     ]
    }
   ],
   "source": [
    "#3.2: Product of n numbers\n",
    "def prdct(n):\n",
    "    p=1\n",
    "    for i in range(0,n):\n",
    "        a=int(input(\"Enter number: \"))\n",
    "        p=p*a\n",
    "    return p\n",
    "\n",
    "n=int(input(\"Enter limit: \"))\n",
    "print (\"Product= \",prdct(n))"
   ]
  },
  {
   "cell_type": "code",
   "execution_count": 6,
   "id": "d3fdd526-a276-4309-91e3-e3734b99fc28",
   "metadata": {},
   "outputs": [
    {
     "name": "stdin",
     "output_type": "stream",
     "text": [
      "Enter a number 5\n"
     ]
    },
    {
     "name": "stdout",
     "output_type": "stream",
     "text": [
      "5 != 120\n"
     ]
    }
   ],
   "source": [
    "#3.3 Factorial\n",
    "def fact(n):\n",
    "    f=1\n",
    "    for i in range(n,0,-1):\n",
    "        f=f*i\n",
    "    return f\n",
    "\n",
    "n=int(input(\"Enter a number\"))\n",
    "print(n,\"!=\",fact(n))"
   ]
  },
  {
   "cell_type": "code",
   "execution_count": null,
   "id": "3215c512-640c-4a7c-9ce8-056898d7b2d1",
   "metadata": {},
   "outputs": [],
   "source": []
  }
 ],
 "metadata": {
  "kernelspec": {
   "display_name": "Python 3 (ipykernel)",
   "language": "python",
   "name": "python3"
  },
  "language_info": {
   "codemirror_mode": {
    "name": "ipython",
    "version": 3
   },
   "file_extension": ".py",
   "mimetype": "text/x-python",
   "name": "python",
   "nbconvert_exporter": "python",
   "pygments_lexer": "ipython3",
   "version": "3.9.4"
  }
 },
 "nbformat": 4,
 "nbformat_minor": 5
}
