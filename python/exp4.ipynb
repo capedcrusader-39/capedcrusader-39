{
 "cells": [
  {
   "cell_type": "raw",
   "id": "6c5668be-ecaf-4637-aaa2-16019b511320",
   "metadata": {},
   "source": [
    "4. Programs to illustrate recursion in Python"
   ]
  },
  {
   "cell_type": "code",
   "execution_count": 2,
   "id": "80349e42-7f4b-4205-8077-36c91df73bf6",
   "metadata": {},
   "outputs": [
    {
     "name": "stdin",
     "output_type": "stream",
     "text": [
      "Enter a number:  5\n"
     ]
    },
    {
     "name": "stdout",
     "output_type": "stream",
     "text": [
      "5 != 120\n"
     ]
    }
   ],
   "source": [
    "#4.1: factorial\n",
    "def fact(n):\n",
    "    if n==1:\n",
    "        return 1\n",
    "    else:\n",
    "        return n*fact(n-1)\n",
    "\n",
    "n=int(input(\"Enter a number: \"))\n",
    "print(n,\"!=\",fact(n))"
   ]
  },
  {
   "cell_type": "code",
   "execution_count": 6,
   "id": "5b4bee39-adf6-4892-b979-e1132fd1686e",
   "metadata": {},
   "outputs": [
    {
     "name": "stdin",
     "output_type": "stream",
     "text": [
      "Enter number of terms:  7\n"
     ]
    },
    {
     "name": "stdout",
     "output_type": "stream",
     "text": [
      "0 1 1 2 3 5 8 "
     ]
    }
   ],
   "source": [
    "#4.2: fibonacci\n",
    "def fibo(n):\n",
    "    if n<=1:\n",
    "        return n\n",
    "    else:\n",
    "        return (fibo(n-1)+fibo(n-2))\n",
    "\n",
    "n=int(input(\"Enter number of terms: \"))\n",
    "if n<=0:\n",
    "    print(\"Invalid input\")\n",
    "else:\n",
    "    for i in range(0,n):\n",
    "        print(fibo(i),end=\" \")"
   ]
  },
  {
   "cell_type": "code",
   "execution_count": 8,
   "id": "8fa92f9e-01d6-4cb4-ab07-873cdf748989",
   "metadata": {},
   "outputs": [
    {
     "name": "stdin",
     "output_type": "stream",
     "text": [
      "Enter a number:  375\n"
     ]
    },
    {
     "name": "stdout",
     "output_type": "stream",
     "text": [
      "Sum of digits of 375 = 15\n"
     ]
    }
   ],
   "source": [
    "#4.3: sum of digits\n",
    "def sod(n):\n",
    "    if n==0:\n",
    "        return 0\n",
    "    else:\n",
    "        return(n%10 + sod(n//10))\n",
    "\n",
    "n=int(input(\"Enter a number: \"))\n",
    "print(\"Sum of digits of\",n,\"=\",sod(n))"
   ]
  },
  {
   "cell_type": "code",
   "execution_count": 9,
   "id": "90d5b1a6-5408-4547-9a63-2fb4ea2e7f60",
   "metadata": {},
   "outputs": [
    {
     "name": "stdin",
     "output_type": "stream",
     "text": [
      "Enter a decimal number:  51\n"
     ]
    },
    {
     "name": "stdout",
     "output_type": "stream",
     "text": [
      "Decimal=  51 \n",
      "Binary = 110011\n"
     ]
    }
   ],
   "source": [
    "#4.4: decimal to binary\n",
    "def d2b(n):\n",
    "    if n==0:\n",
    "        return 0\n",
    "    else:\n",
    "        return (n%2 + 10*d2b(n//2))\n",
    "\n",
    "n=int(input(\"Enter a decimal number: \"))\n",
    "print(\"Decimal= \",n,\"\\nBinary =\",d2b(n))"
   ]
  },
  {
   "cell_type": "code",
   "execution_count": null,
   "id": "7d1cbceb-ac70-4ba0-897e-9c1bfc9dcb5b",
   "metadata": {},
   "outputs": [],
   "source": []
  }
 ],
 "metadata": {
  "kernelspec": {
   "display_name": "Python 3 (ipykernel)",
   "language": "python",
   "name": "python3"
  },
  "language_info": {
   "codemirror_mode": {
    "name": "ipython",
    "version": 3
   },
   "file_extension": ".py",
   "mimetype": "text/x-python",
   "name": "python",
   "nbconvert_exporter": "python",
   "pygments_lexer": "ipython3",
   "version": "3.9.4"
  }
 },
 "nbformat": 4,
 "nbformat_minor": 5
}
