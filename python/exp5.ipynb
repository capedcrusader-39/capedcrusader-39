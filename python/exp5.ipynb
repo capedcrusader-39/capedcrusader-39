{
 "cells": [
  {
   "cell_type": "code",
   "execution_count": 1,
   "metadata": {},
   "outputs": [],
   "source": [
    "#5. Programs to illustrate list"
   ]
  },
  {
   "cell_type": "code",
   "execution_count": 4,
   "metadata": {},
   "outputs": [
    {
     "name": "stdout",
     "output_type": "stream",
     "text": [
      "Enter the number of elements: 9\n",
      "Enter a number: 1\n",
      "Enter a number: 3\n",
      "Enter a number: 2\n",
      "Enter a number: 4\n",
      "Enter a number: 6\n",
      "Enter a number: 5\n",
      "Enter a number: 8\n",
      "Enter a number: 9\n",
      "Enter a number: 7\n",
      "[1, 3, 2, 4, 6, 5, 8, 9, 7]\n",
      "Quantity of element greater than their neighbours:  3\n"
     ]
    }
   ],
   "source": [
    "#5.1 elements greater than neighbours\n",
    "def elements_greater(a,n):\n",
    "    count=0\n",
    "    for j in range(0,n):\n",
    "        if j==0:\n",
    "            if a[j]>a[j+1]:\n",
    "                count+=1\n",
    "        elif j==n-1:\n",
    "            if a[j]>a[j-1]:\n",
    "                count+=1\n",
    "        else:\n",
    "            if a[j]>a[j-1] and a[j]>a[j+1]:\n",
    "                count+=1\n",
    "    return count\n",
    "\n",
    "            \n",
    "            \n",
    "a=[]\n",
    "n=int(input(\"Enter the number of elements: \"))\n",
    "for i in range(0,n):\n",
    "    a.append(int(input(\"Enter a number: \")))\n",
    "print(a)\n",
    "print(\"Quantity of element greater than their neighbours: \",elements_greater(a,n))"
   ]
  },
  {
   "cell_type": "code",
   "execution_count": 25,
   "metadata": {},
   "outputs": [
    {
     "name": "stdout",
     "output_type": "stream",
     "text": [
      "Enter the number of elements: 8\n",
      "Enter a number: 1\n",
      "Enter a number: 6\n",
      "Enter a number: 3\n",
      "Enter a number: 8\n",
      "Enter a number: 3\n",
      "Enter a number: 4\n",
      "Enter a number: 1\n",
      "Enter a number: 8\n",
      "[1, 1, 3, 3, 4, 6, 8, 8]\n",
      "Quantity of distinct elements is  2\n"
     ]
    }
   ],
   "source": [
    "#5.2 quantity of distinct elements\n",
    "def dist(a):\n",
    "    b=[]\n",
    "    l=len(a)\n",
    "    for i in range(0,l):\n",
    "        if i==0:\n",
    "            if a[i]!=a[i+1]:\n",
    "                b.append(a[i])\n",
    "        elif i==l-1:\n",
    "            if a[i]!=a[i-1]:\n",
    "                b.append(a[i])\n",
    "        else:\n",
    "            if a[i]!=a[i+1] and a[i]!=a[i-1]:\n",
    "                b.append(a[i])\n",
    "    print(a)\n",
    "    print(\"Quantity of distinct elements is \",len(b))\n",
    "\n",
    "    \n",
    "a=[]\n",
    "n=int(input(\"Enter the number of elements: \"))\n",
    "for i in range(0,n):\n",
    "    a.append(int(input(\"Enter a number: \")))\n",
    "a.sort()\n",
    "dist(a)"
   ]
  },
  {
   "cell_type": "code",
   "execution_count": 33,
   "metadata": {},
   "outputs": [
    {
     "name": "stdout",
     "output_type": "stream",
     "text": [
      "Enter the number of elements: 5\n",
      "Enter a number: 2\n",
      "Enter a number: 5\n",
      "Enter a number: 1\n",
      "Enter a number: 4\n",
      "Enter a number: 3\n",
      "[1, 2, 3, 4, 5]\n",
      "[5, 2, 3, 4, 1]\n"
     ]
    }
   ],
   "source": [
    "#5.3: max min swap\n",
    "def swap():\n",
    "    a=[]\n",
    "    n=int(input(\"Enter the number of elements: \"))\n",
    "    for i in range(0,n):\n",
    "        a.append(int(input(\"Enter a number: \")))\n",
    "    a.sort()\n",
    "    print(a)\n",
    "    temp=a[0]\n",
    "    a[0]=a[len(a)-1]\n",
    "    a[len(a)-1]=temp\n",
    "    print(a)\n",
    "\n",
    "swap()"
   ]
  },
  {
   "cell_type": "code",
   "execution_count": 37,
   "metadata": {},
   "outputs": [
    {
     "name": "stdout",
     "output_type": "stream",
     "text": [
      "Enter the number of elements: 5\n",
      "Enter a number: 2\n",
      "Enter a number: 5\n",
      "Enter a number: 7\n",
      "Enter a number: 3\n",
      "Enter a number: 9\n",
      "Enter search element: 7\n",
      "[2, 5, 7, 3, 9]\n",
      "Element found at position  3\n"
     ]
    }
   ],
   "source": [
    "#5.4: Linear Search\n",
    "def ls(a,key):\n",
    "    count=0\n",
    "    for i in range(0,len(a)-1):\n",
    "        if a[i]==key:\n",
    "            count=1\n",
    "            break\n",
    "    print(a)\n",
    "    if count==1:\n",
    "        print(\"Element found at position \",i+1)\n",
    "    else:\n",
    "        print(\"Element was not found\")\n",
    "\n",
    "\n",
    "        \n",
    "a=[]        \n",
    "n=int(input(\"Enter the number of elements: \"))\n",
    "for i in range (0,n):\n",
    "    a.append(int(input(\"Enter a number: \")))\n",
    "key=int(input(\"Enter search element: \"))\n",
    "ls(a,key)"
   ]
  },
  {
   "cell_type": "code",
   "execution_count": 16,
   "metadata": {},
   "outputs": [
    {
     "name": "stdout",
     "output_type": "stream",
     "text": [
      "Enter the number of elements: 7\n",
      "Enter a number: 2\n",
      "Enter a number: 5\n",
      "Enter a number: 7\n",
      "Enter a number: 1\n",
      "Enter a number: 5\n",
      "Enter a number: 3\n",
      "Enter a number: 6\n",
      "Enter search element: 2\n",
      "[1, 2, 3, 5, 5, 6, 7]\n",
      "[1, 2, 3]\n",
      "Element found\n"
     ]
    }
   ],
   "source": [
    "#5.5: Binary Search\n",
    "def bin_search(a,key,high,low):\n",
    "    mid=(high+low)//2\n",
    "    if a[mid]==key:\n",
    "        print(\"Element found\")\n",
    "    elif a[mid]>key:\n",
    "        b=[]\n",
    "        for i in range(0,mid):\n",
    "            b.append(a[i])\n",
    "        high=len(b)\n",
    "        low=0\n",
    "        print(b)\n",
    "        bin_search(b,key,high,low)\n",
    "    elif a[mid]<key:\n",
    "        b=[]\n",
    "        for i in range(mid+1,high):\n",
    "            b.append(a[i])\n",
    "        high=len(b)\n",
    "        low=0\n",
    "        print(b)\n",
    "        bin_search(b,key,high,low)\n",
    "    else:\n",
    "        print(\"Element not found\")\n",
    "\n",
    "        \n",
    "        \n",
    "a=[]        \n",
    "n=int(input(\"Enter the number of elements: \"))\n",
    "for i in range (0,n):\n",
    "    a.append(int(input(\"Enter a number: \")))\n",
    "key=int(input(\"Enter search element: \"))\n",
    "a.sort()\n",
    "print(a)\n",
    "bin_search(a,key,len(a),0)"
   ]
  },
  {
   "cell_type": "code",
   "execution_count": 29,
   "metadata": {},
   "outputs": [
    {
     "name": "stdout",
     "output_type": "stream",
     "text": [
      "Enter the number of elements: 5\n",
      "Enter a number: 2\n",
      "Enter a number: 4\n",
      "Enter a number: 6\n",
      "Enter a number: 8\n",
      "Enter a number: 1\n",
      "[1, 2, 4, 6, 8] \n",
      "Second lagest element:  6\n"
     ]
    }
   ],
   "source": [
    "#5.6 Second largest element\n",
    "def sl(a):\n",
    "    a.sort()\n",
    "    i=len(a)-2\n",
    "    return a[i]\n",
    "\n",
    "a=[]\n",
    "n=int(input(\"Enter the number of elements: \"))\n",
    "for i in range(n):\n",
    "    a.append(int(input(\"Enter a number: \")))\n",
    "print(a,\"\\nSecond lagest element: \",sl(a))"
   ]
  },
  {
   "cell_type": "code",
   "execution_count": 33,
   "metadata": {},
   "outputs": [
    {
     "name": "stdout",
     "output_type": "stream",
     "text": [
      "enter number of elements: 5\n",
      "Enter a number: 2\n",
      "Enter a number: 4\n",
      "Enter a number: 0\n",
      "Enter a number: 1\n",
      "Enter a number: 3\n",
      "[2, 4, 0, 1, 3]\n",
      "Sorted list is  [0, 1, 2, 3, 4]\n"
     ]
    }
   ],
   "source": [
    "#5.7: Bubble sort\n",
    "def bubble(a,n):\n",
    "    for i in range (0,n-1):\n",
    "        for j in range (0,n-i-1):\n",
    "            if a[j]>a[j+1]:\n",
    "                a[j],a[j+1]=a[j+1],a[j]\n",
    "    return a\n",
    "\n",
    "a=[]\n",
    "n=int(input(\"enter number of elements: \"))\n",
    "for i in range(0,n):\n",
    "        a.append(int(input(\"Enter a number: \")))\n",
    "print(a)\n",
    "print(\"Sorted list is \",bubble(a,n))"
   ]
  },
  {
   "cell_type": "code",
   "execution_count": 1,
   "metadata": {},
   "outputs": [
    {
     "name": "stdout",
     "output_type": "stream",
     "text": [
      "enter the number of rows of first matrix: 2\n",
      "enter the number of columns of first matrix: 3\n",
      "enter the number of rows of second matrix: 3\n",
      "enter the number of columns of second matrix: 1\n",
      "\n",
      "Enter first matrix\n",
      "Enter element : 1\n",
      "Enter element : 2\n",
      "Enter element : 0\n",
      "Enter element : 2\n",
      "Enter element : 1\n",
      "Enter element : 2\n",
      "\n",
      "Enter second matrix\n",
      "Enter element : 1\n",
      "Enter element : 0\n",
      "Enter element : 1\n",
      "\n",
      "First matrix is: \n",
      "1 2 0 \n",
      "2 1 2 \n",
      "\n",
      "Second matrix is: \n",
      "1 \n",
      "0 \n",
      "1 \n",
      "\n",
      "Product of matrices is\n",
      "1 4 \n"
     ]
    }
   ],
   "source": [
    "#5.8: Matrix multiplication\n",
    "def multi(a,b,r1,c1,r2,c2):\n",
    "    if c1!=r2:\n",
    "        print(\"\\nMatrix multiplication is not possible\")\n",
    "    else:\n",
    "        m=[]\n",
    "        for i in range (r1):\n",
    "            x=[]\n",
    "            for j in range (c2):\n",
    "                x.append(int(0))\n",
    "            m.append(x)\n",
    "        \n",
    "        for i in range(r1):\n",
    "            for j in range(c1):\n",
    "                for k in range(c2):\n",
    "                    m[i][k]=m[i][k]+(a[i][j]*b[j][k])\n",
    "    print(\"\\nProduct of matrices is\")\n",
    "    for i in range (0,r1):\n",
    "        for j in range (0,c2):\n",
    "            print(m[i][k],end=\" \")\n",
    "        print()\n",
    "        \n",
    "        \n",
    "\n",
    "r1=int(input(\"enter the number of rows of first matrix: \"))\n",
    "c1=int(input(\"enter the number of columns of first matrix: \"))\n",
    "r2=int(input(\"enter the number of rows of second matrix: \"))\n",
    "c2=int(input(\"enter the number of columns of second matrix: \"))\n",
    "print(\"\\nEnter first matrix\")\n",
    "a=[]\n",
    "for i in range (0,r1):\n",
    "    x=[]\n",
    "    for j in range (0,c1):\n",
    "        x.append(int(input(\"Enter element : \")))\n",
    "    a.append(x)\n",
    "print(\"\\nEnter second matrix\")\n",
    "b=[]\n",
    "for i in range (0,r2):\n",
    "    x=[]\n",
    "    for j in range (0,c2):\n",
    "        x.append(int(input(\"Enter element : \")))\n",
    "    b.append(x)\n",
    "print(\"\\nFirst matrix is: \")\n",
    "for i in range (0,r1):\n",
    "    for j in range (0,c1):\n",
    "        print(a[i][j],end=\" \")\n",
    "    print()\n",
    "print(\"\\nSecond matrix is: \")\n",
    "for i in range (0,r2):\n",
    "    for j in range (0,c2):\n",
    "        print(b[i][j],end=\" \")\n",
    "    print()\n",
    "multi(a,b,r1,c1,r2,c2)"
   ]
  },
  {
   "cell_type": "code",
   "execution_count": 46,
   "metadata": {},
   "outputs": [
    {
     "name": "stdout",
     "output_type": "stream",
     "text": [
      "enter the number of rows of the matrix: 3\n",
      "enter the number of columns of the matrix: 3\n",
      "Enter an integer c: 2\n",
      "\n",
      "Enter the matrix\n",
      "Enter element : 1\n",
      "Enter element : 5\n",
      "Enter element : 7\n",
      "Enter element : 0\n",
      "Enter element : 2\n",
      "Enter element : 4\n",
      "Enter element : 6\n",
      "Enter element : 8\n",
      "Enter element : 9\n",
      "\n",
      "The original matrix is \n",
      "1 5 7 \n",
      "0 2 4 \n",
      "6 8 9 \n",
      "\n",
      "New matrix after multiplication by  2  is\n",
      "2 10 14 \n",
      "0 4 8 \n",
      "12 16 18 \n"
     ]
    }
   ],
   "source": [
    "#5.9: matrix multipied by scalar\n",
    "def mxc(a,m,n,c):\n",
    "    for i in range (m):\n",
    "        for j in range (n):\n",
    "            a[i][j]*=c\n",
    "    print(\"\\nNew matrix after multiplication by \",c,\" is\")\n",
    "    for i in range (m):\n",
    "        for j in range (n):\n",
    "            print(a[i][j],end=\" \")\n",
    "        print()\n",
    "\n",
    "        \n",
    "        \n",
    "        \n",
    "m=int(input(\"enter the number of rows of the matrix: \"))\n",
    "n=int(input(\"enter the number of columns of the matrix: \"))\n",
    "c=int(input(\"Enter an integer c: \"))\n",
    "print(\"\\nEnter the matrix\")\n",
    "a=[]\n",
    "for i in range (m):\n",
    "    x=[]\n",
    "    for j in range (n):\n",
    "        x.append(int(input(\"Enter element : \")))\n",
    "    a.append(x)\n",
    "print(\"\\nThe original matrix is \")\n",
    "for i in range (m):\n",
    "    for j in range (n):\n",
    "        print(a[i][j],end=\" \")\n",
    "    print()\n",
    "mxc(a,m,n,c)"
   ]
  },
  {
   "cell_type": "code",
   "execution_count": 52,
   "metadata": {},
   "outputs": [
    {
     "name": "stdout",
     "output_type": "stream",
     "text": [
      "enter the number of rows of the matrix: 3\n",
      "enter the number of columns of the matrix: 2\n",
      "\n",
      "Enter the matrix\n",
      "Enter element : 2\n",
      "Enter element : 4\n",
      "Enter element : 6\n",
      "Enter element : 1\n",
      "Enter element : 5\n",
      "Enter element : 7\n",
      "\n",
      "The matrix is \n",
      "2 4 \n",
      "6 1 \n",
      "5 7 \n",
      "Index:  2 , 1\n"
     ]
    }
   ],
   "source": [
    "#5.10: Index position\n",
    "def index(a,m,n):\n",
    "    large=0\n",
    "    for i in range (m):\n",
    "        for j in range (n):\n",
    "            if a[i][j]>large:\n",
    "                large=a[i][j]\n",
    "    for i in range (m):\n",
    "        for j in range (n):\n",
    "            if a[i][j]==large:\n",
    "                print(\"Index: \",i,\",\",j)\n",
    "    \n",
    "\n",
    "\n",
    "\n",
    "m=int(input(\"enter the number of rows of the matrix: \"))\n",
    "n=int(input(\"enter the number of columns of the matrix: \"))\n",
    "print(\"\\nEnter the matrix\")\n",
    "a=[]\n",
    "for i in range (m):\n",
    "    x=[]\n",
    "    for j in range (n):\n",
    "        x.append(int(input(\"Enter element : \")))\n",
    "    a.append(x)\n",
    "print(\"\\nThe matrix is \")\n",
    "for i in range (m):\n",
    "    for j in range (n):\n",
    "        print(a[i][j],end=\" \")\n",
    "    print()\n",
    "index(a,m,n)"
   ]
  },
  {
   "cell_type": "markdown",
   "metadata": {},
   "source": [
    " "
   ]
  }
 ],
 "metadata": {
  "kernelspec": {
   "display_name": "Python 3 (ipykernel)",
   "language": "python",
   "name": "python3"
  },
  "language_info": {
   "codemirror_mode": {
    "name": "ipython",
    "version": 3
   },
   "file_extension": ".py",
   "mimetype": "text/x-python",
   "name": "python",
   "nbconvert_exporter": "python",
   "pygments_lexer": "ipython3",
   "version": "3.9.4"
  }
 },
 "nbformat": 4,
 "nbformat_minor": 4
}
