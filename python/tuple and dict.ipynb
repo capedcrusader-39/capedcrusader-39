{
 "cells": [
  {
   "cell_type": "code",
   "execution_count": 27,
   "metadata": {},
   "outputs": [
    {
     "name": "stdout",
     "output_type": "stream",
     "text": [
      "Options\n",
      "1.Add new student and marks\n",
      "2.Display student with highest mark\n",
      "3.Exit\n",
      "Enter option: 2\n",
      "Student with highest marks\n",
      "Ben\n",
      "Options\n",
      "1.Add new student and marks\n",
      "2.Display student with highest mark\n",
      "3.Exit\n",
      "Enter option: 1\n",
      "Enter name: Max\n",
      "Enter marks: 12\n",
      "Options\n",
      "1.Add new student and marks\n",
      "2.Display student with highest mark\n",
      "3.Exit\n",
      "Enter option: 2\n",
      "Student with highest marks\n",
      "Max\n",
      "Options\n",
      "1.Add new student and marks\n",
      "2.Display student with highest mark\n",
      "3.Exit\n",
      "Enter option: 3\n"
     ]
    }
   ],
   "source": [
    "#1.Menu driven student\n",
    "def add(stud):\n",
    "    stud.update({input(\"Enter name: \"):int(input(\"Enter marks: \"))})\n",
    "    \n",
    "def highest(stud):\n",
    "    print(\"Student with highest marks\")\n",
    "    m=max(stud.values())\n",
    "    for i in stud:\n",
    "        if stud[i]==m:\n",
    "            print(i)\n",
    "    \n",
    "    \n",
    "i=1\n",
    "stud={\"Ben\":10,\"Tom\":7,\"Jim\":4,\"Dan\":9}\n",
    "while i!=0:\n",
    "    print(\"Options\\n1.Add new student and marks\\n2.Display student with highest mark\\n3.Exit\")\n",
    "    opt=int(input(\"Enter option: \"))\n",
    "    if opt==1:\n",
    "        add(stud)\n",
    "    elif opt==2:\n",
    "        highest(stud)\n",
    "    elif opt==3:\n",
    "        i=0\n",
    "    else:\n",
    "        print(\"invalid option\")"
   ]
  },
  {
   "cell_type": "code",
   "execution_count": 24,
   "metadata": {},
   "outputs": [
    {
     "name": "stdout",
     "output_type": "stream",
     "text": [
      "Options\n",
      "1.Add new contact\n",
      "2.Remove a contact\n",
      "3.Update a contact's number\n",
      "4.Look up a contact's number\n",
      "5.Exit\n",
      "Enter option: 1\n",
      "Enter contact name: Geoff\n",
      "Enter contact number: 6292795491\n",
      "Options\n",
      "1.Add new contact\n",
      "2.Remove a contact\n",
      "3.Update a contact's number\n",
      "4.Look up a contact's number\n",
      "5.Exit\n",
      "Enter option: 4\n",
      "Enter contact name: Geoff\n",
      "6292795491\n",
      "Options\n",
      "1.Add new contact\n",
      "2.Remove a contact\n",
      "3.Update a contact's number\n",
      "4.Look up a contact's number\n",
      "5.Exit\n",
      "Enter option: 3\n",
      "Enter contact name: Geoff\n",
      "Enter contact number: 3567891540\n",
      "Options\n",
      "1.Add new contact\n",
      "2.Remove a contact\n",
      "3.Update a contact's number\n",
      "4.Look up a contact's number\n",
      "5.Exit\n",
      "Enter option: 2\n",
      "Enter contact name: Geoff\n",
      "Options\n",
      "1.Add new contact\n",
      "2.Remove a contact\n",
      "3.Update a contact's number\n",
      "4.Look up a contact's number\n",
      "5.Exit\n",
      "Enter option: 5\n"
     ]
    }
   ],
   "source": [
    "#2.Phone book\n",
    "def Add(book):\n",
    "    book.update({input(\"Enter contact name: \"):int(input(\"Enter contact number: \"))})\n",
    "    \n",
    "def Remove(book):\n",
    "    book.pop(input(\"Enter contact name: \"))\n",
    "\n",
    "def Update(book):\n",
    "    name=input(\"Enter contact name: \")\n",
    "    book[name]=int(input(\"Enter contact number: \"))\n",
    "    \n",
    "def Look(book):\n",
    "    name=input(\"Enter contact name: \")\n",
    "    print(book[name])\n",
    "    \n",
    "\n",
    "\n",
    "book={\"Ben\":9836011063,\"Tom\":7274801475,\"Jim\":4268035761,\"Dan\":9147729035}\n",
    "i=1\n",
    "while i!=0:\n",
    "    print(\"Options\\n1.Add new contact\\n2.Remove a contact\\n3.Update a contact's number\\n4.Look up a contact's number\\n5.Exit\")\n",
    "    opt=int(input(\"Enter option: \"))\n",
    "    if opt==1:\n",
    "        Add(book)\n",
    "    elif opt==2:\n",
    "        Remove(book)\n",
    "    elif opt==3:\n",
    "        Update(book)\n",
    "    elif opt==4:\n",
    "        Look(book)\n",
    "    elif opt==5:\n",
    "        i=0\n",
    "    else:\n",
    "        print(\"invalid option\")"
   ]
  },
  {
   "cell_type": "code",
   "execution_count": 43,
   "metadata": {},
   "outputs": [
    {
     "name": "stdout",
     "output_type": "stream",
     "text": [
      "Enter a string: hello world\n",
      "[('d', 1), ('e', 1), ('h', 1), ('l', 3), ('o', 2), ('r', 1), ('w', 1)]\n"
     ]
    }
   ],
   "source": [
    "#3.frequency of eachy letter\n",
    "d={}\n",
    "string=input(\"Enter a string: \")\n",
    "string.lower()\n",
    "for i in string:\n",
    "    j=string.count(i)\n",
    "    d.update({i:j})\n",
    "d.pop(' ')\n",
    "x=sorted(d.items())\n",
    "print(x)"
   ]
  },
  {
   "cell_type": "code",
   "execution_count": 34,
   "metadata": {},
   "outputs": [
    {
     "name": "stdin",
     "output_type": "stream",
     "text": [
      "Enter number of students:  3\n",
      "Enter name:  ben\n",
      "Enter marks:  100\n",
      "Enter name:  tom\n",
      "Enter marks:  80\n",
      "Enter name:  jim\n",
      "Enter marks:  92\n"
     ]
    },
    {
     "name": "stdout",
     "output_type": "stream",
     "text": [
      "[{'ben': 100}, {'tom': 80}, {'jim': 92}]\n",
      "\n",
      "Student's who scored above 90\n",
      "ben\n",
      "jim\n"
     ]
    }
   ],
   "source": [
    "#4.Score above 90\n",
    "t=()\n",
    "l=list(t)\n",
    "d={}\n",
    "n=int(input(\"Enter number of students: \"))\n",
    "for i in range(n):\n",
    "    d={input(\"Enter name: \"):int(input(\"Enter marks: \"))}\n",
    "    l.append(d)\n",
    "print(l)\n",
    "print(\"\\nStudent's who scored above 90\")\n",
    "for i in range(0,len(l)):\n",
    "    d=l[i]\n",
    "    a=list(d.values())\n",
    "    b=list(d.keys())\n",
    "    if a[0]>90:\n",
    "        print(b[0])"
   ]
  },
  {
   "cell_type": "code",
   "execution_count": null,
   "metadata": {},
   "outputs": [],
   "source": []
  }
 ],
 "metadata": {
  "kernelspec": {
   "display_name": "Python 3 (ipykernel)",
   "language": "python",
   "name": "python3"
  },
  "language_info": {
   "codemirror_mode": {
    "name": "ipython",
    "version": 3
   },
   "file_extension": ".py",
   "mimetype": "text/x-python",
   "name": "python",
   "nbconvert_exporter": "python",
   "pygments_lexer": "ipython3",
   "version": "3.9.4"
  }
 },
 "nbformat": 4,
 "nbformat_minor": 4
}
